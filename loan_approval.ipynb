{
 "cells": [
  {
   "cell_type": "markdown",
   "metadata": {},
   "source": [
    "## Importing Libraries"
   ]
  },
  {
   "cell_type": "code",
   "execution_count": 87,
   "metadata": {},
   "outputs": [],
   "source": [
    "import pandas as pd\n",
    "from sklearn.model_selection import train_test_split\n",
    "from sklearn.preprocessing import StandardScaler\n",
    "import matplotlib.pyplot as plt\n",
    "from sklearn.metrics import accuracy_score\n",
    "import numpy as np"
   ]
  },
  {
   "cell_type": "markdown",
   "metadata": {},
   "source": [
    "# Cleaning and Pre-processing of data"
   ]
  },
  {
   "cell_type": "code",
   "execution_count": 98,
   "metadata": {},
   "outputs": [],
   "source": [
    "file_path='loan_approval_dataset.csv'\n",
    "data=pd.read_csv(file_path)\n",
    "columns_irr=['loan_id']\n",
    "data_fil=data.drop(columns=columns_irr)\n",
    "#columns_encod=[' education',' self_employed']\n",
    "#data_encod=pd.get_dummies(data_fil,columns=columns_encod)\n",
    "mapping1 = {\n",
    "    ' Approved': 1,\n",
    "    ' Rejected': 0\n",
    "}\n",
    "mapping2 = {\n",
    "    ' Graduate': 1,\n",
    "    ' Not Graduate': 0\n",
    "}\n",
    "mapping3 = {\n",
    "    ' Yes': 1,\n",
    "    ' No': 0\n",
    "}\n",
    "data_fil[' loan_status'] = data_fil[' loan_status'].map(mapping1)\n",
    "data_fil[' education'] = data_fil[' education'].map(mapping2)\n",
    "data_fil[' self_employed'] = data_fil[' self_employed'].map(mapping3)\n",
    "y=data_fil[' loan_status']\n",
    "x=data_fil.drop(columns=[' loan_status'])\n",
    "x_train, x_test, y_train, y_test = train_test_split(x, y, test_size=0.2, random_state=42)\n",
    "scaler = StandardScaler()\n",
    "x_train_scaled = scaler.fit_transform(x_train)\n",
    "x_test_scaled = scaler.transform(x_test)\n",
    "y_train_numpy = y_train.values\n",
    "y_test_numpy = y_test.values\n",
    "num_rows,num_cols = x.shape"
   ]
  },
  {
   "cell_type": "code",
   "execution_count": 95,
   "metadata": {},
   "outputs": [
    {
     "data": {
      "text/html": [
       "<div>\n",
       "<style scoped>\n",
       "    .dataframe tbody tr th:only-of-type {\n",
       "        vertical-align: middle;\n",
       "    }\n",
       "\n",
       "    .dataframe tbody tr th {\n",
       "        vertical-align: top;\n",
       "    }\n",
       "\n",
       "    .dataframe thead th {\n",
       "        text-align: right;\n",
       "    }\n",
       "</style>\n",
       "<table border=\"1\" class=\"dataframe\">\n",
       "  <thead>\n",
       "    <tr style=\"text-align: right;\">\n",
       "      <th></th>\n",
       "      <th>no_of_dependents</th>\n",
       "      <th>education</th>\n",
       "      <th>self_employed</th>\n",
       "      <th>income_annum</th>\n",
       "      <th>loan_amount</th>\n",
       "      <th>loan_term</th>\n",
       "      <th>cibil_score</th>\n",
       "      <th>residential_assets_value</th>\n",
       "      <th>commercial_assets_value</th>\n",
       "      <th>luxury_assets_value</th>\n",
       "      <th>bank_asset_value</th>\n",
       "      <th>loan_status</th>\n",
       "    </tr>\n",
       "  </thead>\n",
       "  <tbody>\n",
       "    <tr>\n",
       "      <th>0</th>\n",
       "      <td>2</td>\n",
       "      <td>1</td>\n",
       "      <td>0</td>\n",
       "      <td>9600000</td>\n",
       "      <td>29900000</td>\n",
       "      <td>12</td>\n",
       "      <td>778</td>\n",
       "      <td>2400000</td>\n",
       "      <td>17600000</td>\n",
       "      <td>22700000</td>\n",
       "      <td>8000000</td>\n",
       "      <td>1</td>\n",
       "    </tr>\n",
       "    <tr>\n",
       "      <th>1</th>\n",
       "      <td>0</td>\n",
       "      <td>0</td>\n",
       "      <td>1</td>\n",
       "      <td>4100000</td>\n",
       "      <td>12200000</td>\n",
       "      <td>8</td>\n",
       "      <td>417</td>\n",
       "      <td>2700000</td>\n",
       "      <td>2200000</td>\n",
       "      <td>8800000</td>\n",
       "      <td>3300000</td>\n",
       "      <td>0</td>\n",
       "    </tr>\n",
       "    <tr>\n",
       "      <th>2</th>\n",
       "      <td>3</td>\n",
       "      <td>1</td>\n",
       "      <td>0</td>\n",
       "      <td>9100000</td>\n",
       "      <td>29700000</td>\n",
       "      <td>20</td>\n",
       "      <td>506</td>\n",
       "      <td>7100000</td>\n",
       "      <td>4500000</td>\n",
       "      <td>33300000</td>\n",
       "      <td>12800000</td>\n",
       "      <td>0</td>\n",
       "    </tr>\n",
       "    <tr>\n",
       "      <th>3</th>\n",
       "      <td>3</td>\n",
       "      <td>1</td>\n",
       "      <td>0</td>\n",
       "      <td>8200000</td>\n",
       "      <td>30700000</td>\n",
       "      <td>8</td>\n",
       "      <td>467</td>\n",
       "      <td>18200000</td>\n",
       "      <td>3300000</td>\n",
       "      <td>23300000</td>\n",
       "      <td>7900000</td>\n",
       "      <td>0</td>\n",
       "    </tr>\n",
       "    <tr>\n",
       "      <th>4</th>\n",
       "      <td>5</td>\n",
       "      <td>0</td>\n",
       "      <td>1</td>\n",
       "      <td>9800000</td>\n",
       "      <td>24200000</td>\n",
       "      <td>20</td>\n",
       "      <td>382</td>\n",
       "      <td>12400000</td>\n",
       "      <td>8200000</td>\n",
       "      <td>29400000</td>\n",
       "      <td>5000000</td>\n",
       "      <td>0</td>\n",
       "    </tr>\n",
       "  </tbody>\n",
       "</table>\n",
       "</div>"
      ],
      "text/plain": [
       "    no_of_dependents   education   self_employed   income_annum   loan_amount  \\\n",
       "0                  2           1               0        9600000      29900000   \n",
       "1                  0           0               1        4100000      12200000   \n",
       "2                  3           1               0        9100000      29700000   \n",
       "3                  3           1               0        8200000      30700000   \n",
       "4                  5           0               1        9800000      24200000   \n",
       "\n",
       "    loan_term   cibil_score   residential_assets_value  \\\n",
       "0          12           778                    2400000   \n",
       "1           8           417                    2700000   \n",
       "2          20           506                    7100000   \n",
       "3           8           467                   18200000   \n",
       "4          20           382                   12400000   \n",
       "\n",
       "    commercial_assets_value   luxury_assets_value   bank_asset_value  \\\n",
       "0                  17600000              22700000            8000000   \n",
       "1                   2200000               8800000            3300000   \n",
       "2                   4500000              33300000           12800000   \n",
       "3                   3300000              23300000            7900000   \n",
       "4                   8200000              29400000            5000000   \n",
       "\n",
       "    loan_status  \n",
       "0             1  \n",
       "1             0  \n",
       "2             0  \n",
       "3             0  \n",
       "4             0  "
      ]
     },
     "execution_count": 95,
     "metadata": {},
     "output_type": "execute_result"
    }
   ],
   "source": [
    "data_fil.head()"
   ]
  },
  {
   "cell_type": "markdown",
   "metadata": {},
   "source": [
    "# Building Logistic Regression Model from scratch"
   ]
  },
  {
   "cell_type": "code",
   "execution_count": 99,
   "metadata": {},
   "outputs": [
    {
     "name": "stdout",
     "output_type": "stream",
     "text": [
      "Epoch 0, Loss 0.6931471805599333\n",
      "Epoch 100, Loss 0.22505110439644946\n",
      "Epoch 200, Loss 0.22106427701396852\n",
      "Epoch 300, Loss 0.21981372327831056\n",
      "Epoch 400, Loss 0.2191955370769241\n",
      "Epoch 500, Loss 0.218850515457545\n",
      "Epoch 600, Loss 0.2186508866960364\n",
      "Epoch 700, Loss 0.21853380331213798\n",
      "Epoch 800, Loss 0.21846465289929862\n",
      "Epoch 900, Loss 0.21842362508242513\n"
     ]
    }
   ],
   "source": [
    "def dot(x):\n",
    "    global w,b\n",
    "    return np.dot(x,w)+b\n",
    "\n",
    "def sigmoid(z):\n",
    "    return 1/(1+np.exp(-z))\n",
    "\n",
    "def prediction(z):\n",
    "    m=len(z)\n",
    "    for i in range(m):\n",
    "      if z[i]>=0.5:\n",
    "        z[i]=1\n",
    "      else:\n",
    "        z[i]=0\n",
    "\n",
    "def cost_function(y_t,y_p):\n",
    "    epsilon = 1e-10\n",
    "    m=len(y_t)\n",
    "    cost=0\n",
    "    for i in range(m):\n",
    "        cost+= -y_t[i]*np.log(y_p[i]) - (1-y_t[i])*np.log(1-y_p[i])\n",
    "    cost/=m\n",
    "    return cost\n",
    "\n",
    "def grad_des(x,y_target,y_pred,learn):\n",
    "    global w,b\n",
    "    error=y_pred-y_target\n",
    "    m=len(y_pred)\n",
    "    grad=(1/m)*np.dot(x.T,error)\n",
    "    w-=learn*grad\n",
    "    b-=learn*np.mean(error)\n",
    "\n",
    "\n",
    "w = np.zeros(num_cols)\n",
    "b = 0\n",
    "learn_rate=1\n",
    "epochs=1000\n",
    "for epoch in range(epochs):\n",
    "    y_dot=dot(x_train_scaled)\n",
    "    y_pred=sigmoid(y_dot)\n",
    "    #prediction(y_pred)\n",
    "    loss=cost_function(y_train_numpy,y_pred)\n",
    "    grad_des(x_train_scaled,y_train_numpy,y_pred,learn_rate)\n",
    "    if epoch%100==0:\n",
    "        print(f'Epoch {epoch}, Loss {loss}')"
   ]
  },
  {
   "cell_type": "code",
   "execution_count": 100,
   "metadata": {},
   "outputs": [
    {
     "name": "stdout",
     "output_type": "stream",
     "text": [
      "[-0.02936785  0.02393383  0.06754749 -1.7044718   1.33033994 -0.88980096\n",
      "  4.2776239   0.03630921  0.08453589  0.28755274  0.12040969]\n",
      "1.7923050483004803\n"
     ]
    }
   ],
   "source": [
    "print(w)\n",
    "print(b)"
   ]
  },
  {
   "cell_type": "markdown",
   "metadata": {},
   "source": [
    "## Prediction on Test Data "
   ]
  },
  {
   "cell_type": "code",
   "execution_count": 101,
   "metadata": {},
   "outputs": [
    {
     "name": "stdout",
     "output_type": "stream",
     "text": [
      "Accuracy on Testing Data: 0.9039812646370023\n"
     ]
    }
   ],
   "source": [
    "y_pr_d=dot(x_test_scaled)\n",
    "y_pr_s=sigmoid(y_pr_d)\n",
    "prediction(y_pr_s)\n",
    "accuracy = accuracy_score(y_test_numpy, y_pr_s)\n",
    "print(\"Accuracy on Testing Data:\", accuracy)"
   ]
  }
 ],
 "metadata": {
  "kernelspec": {
   "display_name": "Python 3",
   "language": "python",
   "name": "python3"
  },
  "language_info": {
   "codemirror_mode": {
    "name": "ipython",
    "version": 3
   },
   "file_extension": ".py",
   "mimetype": "text/x-python",
   "name": "python",
   "nbconvert_exporter": "python",
   "pygments_lexer": "ipython3",
   "version": "3.11.5"
  },
  "orig_nbformat": 4
 },
 "nbformat": 4,
 "nbformat_minor": 2
}
